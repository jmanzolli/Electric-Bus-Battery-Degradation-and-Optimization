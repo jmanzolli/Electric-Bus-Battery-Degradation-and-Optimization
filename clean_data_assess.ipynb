{
 "cells": [
  {
   "cell_type": "code",
   "execution_count": 6,
   "metadata": {},
   "outputs": [],
   "source": [
    "import pandas as pd"
   ]
  },
  {
   "cell_type": "code",
   "execution_count": 7,
   "metadata": {},
   "outputs": [],
   "source": [
    "# Assuming your files are named file1.xlsx, file2.xlsx, and file3.xlsx\n",
    "file_paths = ['...']\n",
    "\n",
    "# Create an empty DataFrame to store the concatenated data\n",
    "Ah = pd.DataFrame()\n",
    "\n",
    "# Iterate through each file and extract the last sheet\n",
    "for file_path in file_paths:\n",
    "    df = pd.read_excel(file_path, sheet_name=-1)  # -1 refers to the last sheet\n",
    "    \n",
    "    # Ensure the column ends at a multiple of 10\n",
    "    remainder = len(df) % 10\n",
    "    \n",
    "    if remainder != 0:\n",
    "        additional_rows = 10 - remainder\n",
    "        last_value = df['Discharge_Capacity(Ah)'].iloc[-1]\n",
    "        additional_data = pd.DataFrame({'Discharge_Capacity(Ah)': [last_value] * additional_rows})\n",
    "        df = pd.concat([df, additional_data], ignore_index=True)\n",
    "    Ah = pd.concat([Ah, df['Discharge_Capacity(Ah)']], axis=0, ignore_index=True)\n",
    "# Rename the column to 'Discharge_Capacity(Ah)'\n",
    "Ah = Ah.rename(columns={0: 'Discharge_Capacity(Ah)'})"
   ]
  },
  {
   "cell_type": "code",
   "execution_count": 8,
   "metadata": {},
   "outputs": [],
   "source": [
    "def soh_percent(Ah):\n",
    "    soh = []\n",
    "    soh_perc = []\n",
    "\n",
    "    # Convert the 'Discharge_Capacity(Ah)' column to numeric\n",
    "    #Ah['Discharge_Capacity(Ah)'] = pd.to_numeric(Ah['Discharge_Capacity(Ah)'], errors='coerce')\n",
    "\n",
    "    for i in range(0, len(Ah), 10):\n",
    "        soh.append(Ah['Discharge_Capacity(Ah)'].iloc[i])\n",
    "\n",
    "    for i in soh:\n",
    "        aux = ((soh[0] - i) / soh[0]) * 100\n",
    "        soh_perc.append(aux)\n",
    "\n",
    "    return soh_perc\n",
    "\n",
    "def ah_throughput(Ah):\n",
    "    add_num = 0\n",
    "    Ah_cycle = []\n",
    "    \n",
    "    # Convert the 'Discharge_Capacity(Ah)' column to numeric\n",
    "    Ah['Discharge_Capacity(Ah)'] = pd.to_numeric(Ah['Discharge_Capacity(Ah)'], errors='coerce')\n",
    "\n",
    "    for i in range(1, len(Ah), 10):\n",
    "        add_num += Ah['Discharge_Capacity(Ah)'].iloc[i:i+9].sum()\n",
    "        Ah_cycle.append(2 * add_num)\n",
    "\n",
    "    return Ah_cycle"
   ]
  },
  {
   "cell_type": "code",
   "execution_count": 9,
   "metadata": {},
   "outputs": [],
   "source": [
    "Q_loss = soh_percent(Ah)\n",
    "Ah_thr = ah_throughput(Ah)"
   ]
  },
  {
   "cell_type": "code",
   "execution_count": 10,
   "metadata": {},
   "outputs": [],
   "source": [
    "# Data frame\n",
    "df = pd.DataFrame({'Var1': Ah_thr, 'Var2': Q_loss})\n",
    "df.to_excel('data_clean_LFP_16.xlsx', index=False)"
   ]
  }
 ],
 "metadata": {
  "kernelspec": {
   "display_name": "bus_charging_app",
   "language": "python",
   "name": "python3"
  },
  "language_info": {
   "codemirror_mode": {
    "name": "ipython",
    "version": 3
   },
   "file_extension": ".py",
   "mimetype": "text/x-python",
   "name": "python",
   "nbconvert_exporter": "python",
   "pygments_lexer": "ipython3",
   "version": "3.9.15"
  },
  "orig_nbformat": 4,
  "vscode": {
   "interpreter": {
    "hash": "eac5dd5ca2d28bc07758d0721b8e229358ce47c783388344283e7f08412a8526"
   }
  }
 },
 "nbformat": 4,
 "nbformat_minor": 2
}
